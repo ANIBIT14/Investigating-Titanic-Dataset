{
 "cells": [
  {
   "cell_type": "markdown",
   "metadata": {},
   "source": [
    "DataSet:\n",
    "The dataset that was analyzed is Titanic Data\n",
    "Contains the information from 891 of the 2224 passengers and crew on board the Titanic. The information ranges from their name's , age , sex, ticket class to whether they survived the crash or not (i.e. the demographics and the passenger details).\n",
    "\n",
    "\n",
    "    "
   ]
  },
  {
   "cell_type": "markdown",
   "metadata": {},
   "source": [
    "Questions that are to be answered:\n",
    "\n",
    "1.What is the survival rate of passengers depending on their ticket class?\n",
    "\n",
    "2.What percentage of which sex survived the crash?\n",
    "\n",
    "3.What was the survival status of the persons in different age groups?\n",
    "\n",
    "4.How the survival of the people of the two gender is affected by their  embarked location and Pclass?\n",
    "\n",
    "5.Does fare have any relationship with the survival?\n"
   ]
  },
  {
   "cell_type": "markdown",
   "metadata": {},
   "source": [
    "I used two approaches to answer the above questions:\n",
    "\n",
    "1.Analyze by pivoting features\n",
    "\n",
    "To have answer to some of our questions one of the quickest ways is to pivot features against each other and it makes sense to do it for the categorical, ordinal or discrete features.\n",
    "\n",
    "2.Anzalyze by visualizing data\n",
    "\n",
    "This can be used best for understanding correlations between features and our goal that is Survived, we make use of histograms and other plots in it.\n"
   ]
  },
  {
   "cell_type": "markdown",
   "metadata": {},
   "source": [
    "Data Wrangling:\n",
    "\n",
    "There is data missing in the age column at different intervals.\n",
    "And there is some data also missing in the Embarked column.\n",
    "We are dealing with the missing data by using the fillna method to fill those cells.\n",
    "\n",
    "The cells in Ticket column have data which is a mix of numerical and alphanumerical.\n",
    "\n",
    "Then their is the case of data given in the Ticket, Name, PassengerId and Cabin columns, as per my understanding we don't need that data to answer any of the above questions so I think that we could remove them without causing any hinderance in our investigation.\n"
   ]
  },
  {
   "cell_type": "code",
   "execution_count": 1,
   "metadata": {
    "collapsed": false
   },
   "outputs": [
    {
     "name": "stdout",
     "output_type": "stream",
     "text": [
      "Populating the interactive namespace from numpy and matplotlib\n"
     ]
    }
   ],
   "source": [
    "#data analysis and wrangling\n",
    "\n",
    "import pandas as pd\n",
    "import numpy as np\n",
    "\n",
    "import seaborn as sns\n",
    "%pylab inline\n",
    "\n",
    "import matplotlib.pyplot as plt\n",
    "%matplotlib inline\n",
    "\n",
    "titanic_df = pd.read_csv('E:/Aniruddha/Education/Courses/Data Science/Nanodegree/titanic-data.csv')\n",
    "\n",
    "\n"
   ]
  },
  {
   "cell_type": "code",
   "execution_count": 2,
   "metadata": {
    "collapsed": false,
    "scrolled": true
   },
   "outputs": [
    {
     "name": "stdout",
     "output_type": "stream",
     "text": [
      "<class 'pandas.core.frame.DataFrame'>\n",
      "RangeIndex: 891 entries, 0 to 890\n",
      "Data columns (total 12 columns):\n",
      "PassengerId    891 non-null int64\n",
      "Survived       891 non-null int64\n",
      "Pclass         891 non-null int64\n",
      "Name           891 non-null object\n",
      "Sex            891 non-null object\n",
      "Age            714 non-null float64\n",
      "SibSp          891 non-null int64\n",
      "Parch          891 non-null int64\n",
      "Ticket         891 non-null object\n",
      "Fare           891 non-null float64\n",
      "Cabin          204 non-null object\n",
      "Embarked       889 non-null object\n",
      "dtypes: float64(2), int64(5), object(5)\n",
      "memory usage: 83.6+ KB\n"
     ]
    }
   ],
   "source": [
    "#used to gain insight about the given data\n",
    "titanic_df.info()"
   ]
  },
  {
   "cell_type": "code",
   "execution_count": 3,
   "metadata": {
    "collapsed": false,
    "scrolled": true
   },
   "outputs": [],
   "source": [
    "#removing unwanted columns\n",
    "\n",
    "titanic_df.drop(['Ticket', 'Cabin','Name','PassengerId' ], axis = 1, inplace = True)"
   ]
  },
  {
   "cell_type": "code",
   "execution_count": 4,
   "metadata": {
    "collapsed": false,
    "scrolled": false
   },
   "outputs": [
    {
     "data": {
      "text/html": [
       "<div>\n",
       "<style>\n",
       "    .dataframe thead tr:only-child th {\n",
       "        text-align: right;\n",
       "    }\n",
       "\n",
       "    .dataframe thead th {\n",
       "        text-align: left;\n",
       "    }\n",
       "\n",
       "    .dataframe tbody tr th {\n",
       "        vertical-align: top;\n",
       "    }\n",
       "</style>\n",
       "<table border=\"1\" class=\"dataframe\">\n",
       "  <thead>\n",
       "    <tr style=\"text-align: right;\">\n",
       "      <th></th>\n",
       "      <th>Survived</th>\n",
       "      <th>Pclass</th>\n",
       "      <th>Sex</th>\n",
       "      <th>Age</th>\n",
       "      <th>SibSp</th>\n",
       "      <th>Parch</th>\n",
       "      <th>Fare</th>\n",
       "      <th>Embarked</th>\n",
       "    </tr>\n",
       "  </thead>\n",
       "  <tbody>\n",
       "    <tr>\n",
       "      <th>0</th>\n",
       "      <td>0</td>\n",
       "      <td>3</td>\n",
       "      <td>male</td>\n",
       "      <td>22.0</td>\n",
       "      <td>1</td>\n",
       "      <td>0</td>\n",
       "      <td>7.2500</td>\n",
       "      <td>S</td>\n",
       "    </tr>\n",
       "    <tr>\n",
       "      <th>1</th>\n",
       "      <td>1</td>\n",
       "      <td>1</td>\n",
       "      <td>female</td>\n",
       "      <td>38.0</td>\n",
       "      <td>1</td>\n",
       "      <td>0</td>\n",
       "      <td>71.2833</td>\n",
       "      <td>C</td>\n",
       "    </tr>\n",
       "    <tr>\n",
       "      <th>2</th>\n",
       "      <td>1</td>\n",
       "      <td>3</td>\n",
       "      <td>female</td>\n",
       "      <td>26.0</td>\n",
       "      <td>0</td>\n",
       "      <td>0</td>\n",
       "      <td>7.9250</td>\n",
       "      <td>S</td>\n",
       "    </tr>\n",
       "    <tr>\n",
       "      <th>3</th>\n",
       "      <td>1</td>\n",
       "      <td>1</td>\n",
       "      <td>female</td>\n",
       "      <td>35.0</td>\n",
       "      <td>1</td>\n",
       "      <td>0</td>\n",
       "      <td>53.1000</td>\n",
       "      <td>S</td>\n",
       "    </tr>\n",
       "    <tr>\n",
       "      <th>4</th>\n",
       "      <td>0</td>\n",
       "      <td>3</td>\n",
       "      <td>male</td>\n",
       "      <td>35.0</td>\n",
       "      <td>0</td>\n",
       "      <td>0</td>\n",
       "      <td>8.0500</td>\n",
       "      <td>S</td>\n",
       "    </tr>\n",
       "  </tbody>\n",
       "</table>\n",
       "</div>"
      ],
      "text/plain": [
       "   Survived  Pclass     Sex   Age  SibSp  Parch     Fare Embarked\n",
       "0         0       3    male  22.0      1      0   7.2500        S\n",
       "1         1       1  female  38.0      1      0  71.2833        C\n",
       "2         1       3  female  26.0      0      0   7.9250        S\n",
       "3         1       1  female  35.0      1      0  53.1000        S\n",
       "4         0       3    male  35.0      0      0   8.0500        S"
      ]
     },
     "execution_count": 4,
     "metadata": {},
     "output_type": "execute_result"
    }
   ],
   "source": [
    "#seeing the state of data\n",
    "titanic_df.head()\n"
   ]
  },
  {
   "cell_type": "markdown",
   "metadata": {},
   "source": [
    "Q1:What is the survival rate of passengers depending on their ticket class?\n",
    "\n"
   ]
  },
  {
   "cell_type": "code",
   "execution_count": 5,
   "metadata": {
    "collapsed": false
   },
   "outputs": [
    {
     "name": "stdout",
     "output_type": "stream",
     "text": [
      "nan\n"
     ]
    }
   ],
   "source": [
    "#it shows us the survival rates of passengers on the basis of their travelling class\n",
    "titanic_df.fillna(value = 0)\n",
    "titanic_df[['Pclass', 'Survived']].groupby(['Pclass'], as_index=False).mean().sort_values(by='Survived', ascending=False)\n",
    "\n",
    "print titanic_df.Embarked[61]\n",
    "\n",
    "\n"
   ]
  },
  {
   "cell_type": "code",
   "execution_count": 6,
   "metadata": {
    "collapsed": false,
    "scrolled": true
   },
   "outputs": [
    {
     "data": {
      "image/png": "[encoded data removed]",
      "text/plain": [
       "<matplotlib.figure.Figure at 0xbe5a2e8>"
      ]
     },
     "metadata": {},
     "output_type": "display_data"
    }
   ],
   "source": [
    "pclass = sns.FacetGrid(titanic_df, col='Survived', row='Pclass', size=2.2, aspect=1.6)\n",
    "pclass.map(plt.hist, 'Age', alpha=.5, bins=20)\n",
    "pclass.add_legend();"
   ]
  },
  {
   "cell_type": "markdown",
   "metadata": {},
   "source": [
    "The observations that we can make from the above values and graph is that Pclass 3 had most passengers but most of them did not survived.\n",
    "\n",
    "The infants in class 2 and 3 mostly survived\n",
    "\n",
    "The class with the highest survival rate is Pclass 1\n",
    "\n",
    "And one iteresting thing that we can see from the above graphs is the age variations in different classes.\n"
   ]
  },
  {
   "cell_type": "markdown",
   "metadata": {},
   "source": [
    "Q2.What percentage of which sex survived the crash?"
   ]
  },
  {
   "cell_type": "code",
   "execution_count": 7,
   "metadata": {
    "collapsed": false
   },
   "outputs": [
    {
     "data": {
      "text/html": [
       "<div>\n",
       "<style>\n",
       "    .dataframe thead tr:only-child th {\n",
       "        text-align: right;\n",
       "    }\n",
       "\n",
       "    .dataframe thead th {\n",
       "        text-align: left;\n",
       "    }\n",
       "\n",
       "    .dataframe tbody tr th {\n",
       "        vertical-align: top;\n",
       "    }\n",
       "</style>\n",
       "<table border=\"1\" class=\"dataframe\">\n",
       "  <thead>\n",
       "    <tr style=\"text-align: right;\">\n",
       "      <th></th>\n",
       "      <th>Sex</th>\n",
       "      <th>Survived</th>\n",
       "    </tr>\n",
       "  </thead>\n",
       "  <tbody>\n",
       "    <tr>\n",
       "      <th>0</th>\n",
       "      <td>female</td>\n",
       "      <td>0.742038</td>\n",
       "    </tr>\n",
       "    <tr>\n",
       "      <th>1</th>\n",
       "      <td>male</td>\n",
       "      <td>0.188908</td>\n",
       "    </tr>\n",
       "  </tbody>\n",
       "</table>\n",
       "</div>"
      ],
      "text/plain": [
       "      Sex  Survived\n",
       "0  female  0.742038\n",
       "1    male  0.188908"
      ]
     },
     "execution_count": 7,
     "metadata": {},
     "output_type": "execute_result"
    }
   ],
   "source": [
    "titanic_df[[\"Sex\", \"Survived\"]].groupby(['Sex'], as_index=False).mean().sort_values(by='Survived', ascending=False)"
   ]
  },
  {
   "cell_type": "code",
   "execution_count": 8,
   "metadata": {
    "collapsed": false
   },
   "outputs": [
    {
     "data": {
      "text/html": [
       "<div>\n",
       "<style>\n",
       "    .dataframe thead tr:only-child th {\n",
       "        text-align: right;\n",
       "    }\n",
       "\n",
       "    .dataframe thead th {\n",
       "        text-align: left;\n",
       "    }\n",
       "\n",
       "    .dataframe tbody tr th {\n",
       "        vertical-align: top;\n",
       "    }\n",
       "</style>\n",
       "<table border=\"1\" class=\"dataframe\">\n",
       "  <thead>\n",
       "    <tr style=\"text-align: right;\">\n",
       "      <th></th>\n",
       "      <th>Sex</th>\n",
       "      <th>Embarked</th>\n",
       "    </tr>\n",
       "  </thead>\n",
       "  <tbody>\n",
       "    <tr>\n",
       "      <th>count</th>\n",
       "      <td>891</td>\n",
       "      <td>889</td>\n",
       "    </tr>\n",
       "    <tr>\n",
       "      <th>unique</th>\n",
       "      <td>2</td>\n",
       "      <td>3</td>\n",
       "    </tr>\n",
       "    <tr>\n",
       "      <th>top</th>\n",
       "      <td>male</td>\n",
       "      <td>S</td>\n",
       "    </tr>\n",
       "    <tr>\n",
       "      <th>freq</th>\n",
       "      <td>577</td>\n",
       "      <td>644</td>\n",
       "    </tr>\n",
       "  </tbody>\n",
       "</table>\n",
       "</div>"
      ],
      "text/plain": [
       "         Sex Embarked\n",
       "count    891      889\n",
       "unique     2        3\n",
       "top     male        S\n",
       "freq     577      644"
      ]
     },
     "execution_count": 8,
     "metadata": {},
     "output_type": "execute_result"
    }
   ],
   "source": [
    "titanic_df.describe(include=['O'])"
   ]
  },
  {
   "cell_type": "markdown",
   "metadata": {
    "collapsed": true
   },
   "source": [
    "Observations:\n",
    "The female sex have higher survival rate then the male but we must keep in mind that their number is way less than the male sex, which could be also a reason for such a great difference between the survival rate of the two sexes.\n"
   ]
  },
  {
   "cell_type": "markdown",
   "metadata": {},
   "source": [
    "Q3.What was the survival status of the persons in different age groups?\n"
   ]
  },
  {
   "cell_type": "code",
   "execution_count": 9,
   "metadata": {
    "collapsed": false
   },
   "outputs": [
    {
     "data": {
      "text/plain": [
       "<seaborn.axisgrid.FacetGrid at 0xcf001d0>"
      ]
     },
     "execution_count": 9,
     "metadata": {},
     "output_type": "execute_result"
    },
    {
     "data": {
      "image/png": "[encoded data removed]",
      "text/plain": [
       "<matplotlib.figure.Figure at 0xc8e34e0>"
      ]
     },
     "metadata": {},
     "output_type": "display_data"
    },
    {
     "data": {
      "image/png": "[encoded data removed]",
      "text/plain": [
       "<matplotlib.figure.Figure at 0xc556ac8>"
      ]
     },
     "metadata": {},
     "output_type": "display_data"
    }
   ],
   "source": [
    "#here I am also showing a single variable exploration by showing the\n",
    "#passengers age distribution\n",
    "s = sns.FacetGrid(titanic_df)\n",
    "s.map(plt.hist, 'Age', bins=range(0,100,10), color = 'b')\n",
    "plt.ylabel('No. of passengers')\n",
    "\n",
    "h = sns.FacetGrid(titanic_df, col='Survived')\n",
    "h.map(plt.hist, 'Age', bins=range(0,100,10), color = 'g')\n"
   ]
  },
  {
   "cell_type": "markdown",
   "metadata": {
    "collapsed": false
   },
   "source": [
    "The observations we can make from the above graphs are as following:\n",
    "\n",
    "Infants i.e. with age less than or equal to 5 has a high survival rate\n",
    "\n",
    "Oldest passengers of Age >= 80 survived\n",
    "\n",
    "Large number of people in age interval 20 to 40 didn't survived\n",
    "\n",
    "Most passengers are in age group 20 to 40\n"
   ]
  },
  {
   "cell_type": "markdown",
   "metadata": {},
   "source": [
    "Q4.How the survival of the people of the two gender is affected by their embarked location and Pclass?\n"
   ]
  },
  {
   "cell_type": "code",
   "execution_count": 10,
   "metadata": {
    "collapsed": false
   },
   "outputs": [
    {
     "data": {
      "text/plain": [
       "<seaborn.axisgrid.FacetGrid at 0xc835630>"
      ]
     },
     "execution_count": 10,
     "metadata": {},
     "output_type": "execute_result"
    },
    {
     "data": {
      "image/png": "[encoded data removed]",
      "text/plain": [
       "<matplotlib.figure.Figure at 0xcb7a4e0>"
      ]
     },
     "metadata": {},
     "output_type": "display_data"
    }
   ],
   "source": [
    "emb = sns.FacetGrid(titanic_df, row='Embarked', size=2.5, aspect=2.0)\n",
    "emb.map(sns.pointplot, 'Pclass', 'Survived', 'Sex', palette='deep')\n",
    "emb.add_legend()"
   ]
  },
  {
   "cell_type": "markdown",
   "metadata": {},
   "source": [
    "Observations:\n",
    "As we have seen that female passengers had a much greater survival chance than the males.\n",
    "\n",
    "And we can also see that for ports C and Q males those where travelling in Pclass 3 had a better survival rate.\n",
    "\n",
    "But the above plot can cause a problem in clearly judging the srvival rates for the male and female at diffierent ports as in the case of Embarked = C where one can tend to believe that male has a higher survival rate so we are using the following data and  plot to clearly understand that.\n"
   ]
  },
  {
   "cell_type": "code",
   "execution_count": 11,
   "metadata": {
    "collapsed": false
   },
   "outputs": [
    {
     "data": {
      "text/plain": [
       "Embarked  Pclass  Sex   \n",
       "C         1       female    0.976744\n",
       "                  male      0.404762\n",
       "          2       female    1.000000\n",
       "                  male      0.200000\n",
       "          3       female    0.652174\n",
       "                  male      0.232558\n",
       "Q         1       female    1.000000\n",
       "                  male      0.000000\n",
       "          2       female    1.000000\n",
       "                  male      0.000000\n",
       "          3       female    0.727273\n",
       "                  male      0.076923\n",
       "S         1       female    0.958333\n",
       "                  male      0.354430\n",
       "          2       female    0.910448\n",
       "                  male      0.154639\n",
       "          3       female    0.375000\n",
       "                  male      0.128302\n",
       "Name: Survived, dtype: float64"
      ]
     },
     "execution_count": 11,
     "metadata": {},
     "output_type": "execute_result"
    }
   ],
   "source": [
    "titanic_df.groupby(['Embarked', 'Pclass', 'Sex'])['Survived'].mean()"
   ]
  },
  {
   "cell_type": "code",
   "execution_count": 12,
   "metadata": {
    "collapsed": false
   },
   "outputs": [
    {
     "data": {
      "text/plain": [
       "<seaborn.axisgrid.FacetGrid at 0xd4fbda0>"
      ]
     },
     "execution_count": 12,
     "metadata": {},
     "output_type": "execute_result"
    },
    {
     "data": {
      "image/png": "[encoded data removed]",
      "text/plain": [
       "<matplotlib.figure.Figure at 0xc6d5d30>"
      ]
     },
     "metadata": {},
     "output_type": "display_data"
    }
   ],
   "source": [
    "\n",
    "sns.factorplot(data=titanic_df,col='Embarked', x='Pclass', hue='Sex', y='Survived', kind='bar')"
   ]
  },
  {
   "cell_type": "markdown",
   "metadata": {},
   "source": [
    "Now from the above graph we can clearly see that whatever the port and the travel class females has a better survival rate."
   ]
  },
  {
   "cell_type": "markdown",
   "metadata": {},
   "source": [
    "Q5.Does fare have any relationship with the survival?"
   ]
  },
  {
   "cell_type": "code",
   "execution_count": 13,
   "metadata": {
    "collapsed": false
   },
   "outputs": [
    {
     "data": {
      "text/plain": [
       "<seaborn.axisgrid.FacetGrid at 0xe2c2dd8>"
      ]
     },
     "execution_count": 13,
     "metadata": {},
     "output_type": "execute_result"
    },
    {
     "data": {
      "image/png": "[encoded data removed]",
      "text/plain": [
       "<matplotlib.figure.Figure at 0xe2c2978>"
      ]
     },
     "metadata": {},
     "output_type": "display_data"
    }
   ],
   "source": [
    "emb2 = sns.FacetGrid(titanic_df, row='Embarked', col='Survived', size=2.2, aspect=1.6)\n",
    "emb2.map(sns.barplot, 'Sex', 'Fare', alpha=.5, ci=None)\n",
    "emb2.add_legend()"
   ]
  },
  {
   "cell_type": "markdown",
   "metadata": {
    "collapsed": true
   },
   "source": [
    "Observsations:\n",
    "Here we have correlated Fare, Embarked and Sex with Survived.\n",
    "\n",
    "Which resulted in the above graphs from which we can surely infer that passengers who paid higher fare had a better survival \n",
    "rate which in turn gives us a reason that survival rate is correlated with the class of travel"
   ]
  },
  {
   "cell_type": "markdown",
   "metadata": {},
   "source": [
    "Conclusion:\n",
    "\n",
    "First thing that we should keep in mind for the above observations is that it is made on an incomplete dataset which did not include all the passengers. So any relation or observation we made can change if the more values is added to the data.\n",
    "\n",
    "Then the data does not clearly explain the information given to us.\n",
    "For example the data related to fare is not provided us with the way it was calculated, as it is varying for the same ticket from the same place.\n",
    "\n",
    "One way we can improve the observations regarding the fare feature is in the following way:\n",
    "\n",
    "1.Create a new feature sizeoffamily by combining Parch and SibSp which in turn help us in droping them.\n",
    "\n",
    "2.And from sizeoffamily we can create a feature isalone for passengers.\n",
    "\n",
    "3.We can then create different farebands and covert the fare feature into ordinal values based on the farebands.\n",
    "\n",
    "4.This leads us to better analyze other features with the fare feature as now we can know whether the fare is for a single person or multiple.\n",
    "\n",
    "There are features like age and embarked which have unfilled values in the given data and which are assumed to be 0 and null by us for the computaion, so it is must to know that we cannot definitely say to what extent our conclusions are correct without performing additional tests on them.\n",
    "\n",
    "\n"
   ]
  },
  {
   "cell_type": "markdown",
   "metadata": {},
   "source": [
    "Hypothesis Test:\n",
    "\n",
    "We can perform the Chi Square test to validate our findings. \n",
    "Here we are applying it on the following scenario.\n",
    "We found that female passengers had a higher survial rate so we say we had hypothesis:\n",
    "\n",
    "h0: survival chance is not affected by a person sex\n",
    "\n",
    "h1:survival is affected by a person \n",
    "\n"
   ]
  },
  {
   "cell_type": "code",
   "execution_count": 14,
   "metadata": {
    "collapsed": false
   },
   "outputs": [
    {
     "data": {
      "text/plain": [
       "<seaborn.axisgrid.FacetGrid at 0xc855e10>"
      ]
     },
     "execution_count": 14,
     "metadata": {},
     "output_type": "execute_result"
    },
    {
     "data": {
      "image/png": "[encoded data removed]",
      "text/plain": [
       "<matplotlib.figure.Figure at 0xecd0278>"
      ]
     },
     "metadata": {},
     "output_type": "display_data"
    }
   ],
   "source": [
    "sns.factorplot(data=titanic_df, x='Sex', hue='Sex', y='Survived', kind='bar')"
   ]
  },
  {
   "cell_type": "markdown",
   "metadata": {},
   "source": [
    "The above graph shows the proportions of survivors by their gender"
   ]
  },
  {
   "cell_type": "code",
   "execution_count": 15,
   "metadata": {
    "collapsed": false
   },
   "outputs": [
    {
     "data": {
      "text/plain": [
       "<matplotlib.text.Text at 0xf344710>"
      ]
     },
     "execution_count": 15,
     "metadata": {},
     "output_type": "execute_result"
    },
    {
     "data": {
      "image/png": "[encoded data removed]",
      "text/plain": [
       "<matplotlib.figure.Figure at 0xee40860>"
      ]
     },
     "metadata": {},
     "output_type": "display_data"
    }
   ],
   "source": [
    "def percentage(val, total, format_percent = False):\n",
    "    \"\"\"Calculates the percentage of a value over a total\"\"\"\n",
    "    percent = np.divide(val, total, dtype=float)\n",
    "    if format_percent:\n",
    "        percent = as_percent(percent)\n",
    "    return percent\n",
    "\n",
    "\n",
    "survived = titanic_df[titanic_df.Survived==True]\n",
    "died = titanic_df[titanic_df.Survived==False]\n",
    "\n",
    "# calculate values for each survival status\n",
    "s_sex = survived.groupby(['Sex']).size().values\n",
    "d_sex = died.groupby(['Sex']).size().values\n",
    "\n",
    "total = s_sex + d_sex\n",
    "\n",
    "# use calculate_percentage_function to calculate percentage of the total\n",
    "d1 = percentage(s_sex, total)*100 \n",
    "d2 = percentage(d_sex, total)*100 \n",
    "\n",
    "gender = ['Female', 'Male']\n",
    "\n",
    "f, (ax1, ax2) = plt.subplots(1, 2, figsize=(10,5))\n",
    "# plot chart for count of survivors by class\n",
    "ax1.bar(range(len(s_sex)), s_sex, label='Survivors', alpha=0.5, color='b')\n",
    "ax1.bar(range(len(d_sex)), d_sex, bottom=s_sex, label='Non-Survivors', alpha=0.5, color='r')\n",
    "plt.sca(ax1)\n",
    "plt.xticks([0.4, 1.4], gender )\n",
    "ax1.set_ylabel(\"Count\")\n",
    "ax1.set_xlabel(\"\")\n",
    "ax1.set_title(\"Survivors count\",fontsize=14)\n",
    "plt.legend(loc='upper left')\n",
    "\n",
    "# plot chart for percentage of survivors by class\n",
    "ax2.bar(range(len(d1)), d1, alpha=0.5, color='g')\n",
    "ax2.bar(range(len(d2)), d2, bottom=d1, alpha=0.5, color='r')\n",
    "plt.sca(ax2)\n",
    "plt.xticks([0.4, 1.4], gender)\n",
    "ax2.set_ylabel(\"Percentage\")\n",
    "ax2.set_xlabel(\"\")\n",
    "ax2.set_title(\"Survivors by sex\",fontsize=14)"
   ]
  },
  {
   "cell_type": "markdown",
   "metadata": {},
   "source": [
    "As earlier noted there where more males on board the titanic but from above plots one can see that more females survived in comparison to males which shows that females had a higher survival rate.\n",
    "\n",
    "Now for chi square values we make use of scipy:\n"
   ]
  },
  {
   "cell_type": "code",
   "execution_count": 16,
   "metadata": {
    "collapsed": false
   },
   "outputs": [
    {
     "name": "stdout",
     "output_type": "stream",
     "text": [
      "Item\tValue\n",
      "Chi-Square Test\t260.717020167\n",
      "P-Value\t1.19735706278e-58\n"
     ]
    }
   ],
   "source": [
    "from scipy import stats\n",
    "\n",
    "table = pd.crosstab([titanic_df['Survived']], titanic_df['Sex'])\n",
    "chi, p, dof, expected = stats.chi2_contingency(table.values)\n",
    "result = [\n",
    "    ['Item','Value'],\n",
    "    ['Chi-Square Test',chi],\n",
    "    ['P-Value', p]\n",
    "]\n",
    "\n",
    "for itr in result:\n",
    "    print '\\t'.join(str(i) for i in itr) "
   ]
  },
  {
   "cell_type": "markdown",
   "metadata": {},
   "source": [
    "As we can see that the p value is less than 0.05 it means the chances of survival being affected by sex is high. So, we can discard the null hypothesis.\n",
    "\n",
    "Thus this test helps us in proving our observations."
   ]
  }
 ],
 "metadata": {
  "kernelspec": {
   "display_name": "Python [conda root]",
   "language": "python",
   "name": "conda-root-py"
  },
  "language_info": {
   "codemirror_mode": {
    "name": "ipython",
    "version": 2
   },
   "file_extension": ".py",
   "mimetype": "text/x-python",
   "name": "python",
   "nbconvert_exporter": "python",
   "pygments_lexer": "ipython2",
   "version": "2.7.13"
  }
 },
 "nbformat": 4,
 "nbformat_minor": 1
}
